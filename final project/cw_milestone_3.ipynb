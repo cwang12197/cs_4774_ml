{
 "cells": [
  {
   "cell_type": "code",
   "execution_count": 1,
   "metadata": {},
   "outputs": [
    {
     "name": "stdout",
     "output_type": "stream",
     "text": [
      "                       Division Name  SOL Pass Rate\n",
      "0                    Accomack County       0.625900\n",
      "1     Accomack County Public Schools            NaN\n",
      "2                   Albemarle County       0.651583\n",
      "3    Albemarle County Public Schools            NaN\n",
      "4                    Alexandria City       0.568353\n",
      "..                               ...            ...\n",
      "257       Wise County Public Schools            NaN\n",
      "258                     Wythe County       0.790792\n",
      "259      Wythe County Public Schools            NaN\n",
      "260                      York County       0.833778\n",
      "261       York County Public Schools            NaN\n",
      "\n",
      "[262 rows x 2 columns]\n"
     ]
    }
   ],
   "source": [
    "import pandas as pd\n",
    "# Load the merged dataset\n",
    "file_path = './Virginia Public Schools Archive/demographics_sol_dataset.csv'\n",
    "df = pd.read_csv(file_path)\n",
    "\n",
    "mean_sol_pass_rate = df.groupby('Division Name')['SOL Pass Rate'].mean().reset_index()\n",
    "print(mean_sol_pass_rate)"
   ]
  }
 ],
 "metadata": {
  "kernelspec": {
   "display_name": "Python 3",
   "language": "python",
   "name": "python3"
  },
  "language_info": {
   "codemirror_mode": {
    "name": "ipython",
    "version": 3
   },
   "file_extension": ".py",
   "mimetype": "text/x-python",
   "name": "python",
   "nbconvert_exporter": "python",
   "pygments_lexer": "ipython3",
   "version": "3.12.5"
  }
 },
 "nbformat": 4,
 "nbformat_minor": 2
}
