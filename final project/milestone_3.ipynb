{
 "cells": [
  {
   "cell_type": "markdown",
   "metadata": {},
   "source": [
    "<h1>Merging demographics dataset</h1>"
   ]
  },
  {
   "cell_type": "code",
   "execution_count": 12,
   "metadata": {},
   "outputs": [
    {
     "name": "stdout",
     "output_type": "stream",
     "text": [
      "Disadvantaged    Division Name              School Name  \\\n",
      "0              Accomack County    Accawmacke Elementary   \n",
      "1              Accomack County             Arcadia High   \n",
      "2              Accomack County           Arcadia Middle   \n",
      "3              Accomack County  Chincoteague Elementary   \n",
      "4              Accomack County        Chincoteague High   \n",
      "\n",
      "Disadvantaged  percentage_disadvantaged  \n",
      "0                              0.485294  \n",
      "1                              0.382824  \n",
      "2                              0.482633  \n",
      "3                              0.256637  \n",
      "4                              0.296992  \n"
     ]
    }
   ],
   "source": [
    "import pandas as pd\n",
    "\n",
    "# Load the Economically Disadvantaged dataset\n",
    "df = pd.read_csv('./Virginia Public Schools Archive/Demographics/Economically_Disadvantaged.csv')\n",
    "\n",
    "# Convert Total Count to numeric (in case of any non-numeric values)\n",
    "df['Total Count'] = pd.to_numeric(df['Total Count'], errors='coerce')\n",
    "\n",
    "# Pivot the data to create separate columns for 'Y' and 'N'\n",
    "pivot_df = df.pivot_table(\n",
    "    index=['Division Name', 'School Name'], \n",
    "    columns='Disadvantaged', \n",
    "    values='Total Count', \n",
    "    aggfunc='sum', \n",
    "    fill_value=0\n",
    ").reset_index()\n",
    "\n",
    "# Rename columns for clarity\n",
    "pivot_df = pivot_df.rename(columns={'Y': 'Disadvantaged_Y', 'N': 'Disadvantaged_N'})\n",
    "\n",
    "# Calculate the percentage of disadvantaged students\n",
    "pivot_df['percentage_disadvantaged'] = (\n",
    "    pivot_df['Disadvantaged_Y'] / (pivot_df['Disadvantaged_Y'] + pivot_df['Disadvantaged_N']) \n",
    ")\n",
    "\n",
    "# Keep only the necessary columns\n",
    "result_df = pivot_df[['Division Name', 'School Name', 'percentage_disadvantaged']]\n",
    "\n",
    "# Display the result\n",
    "print(result_df.head())\n",
    "\n",
    "# Optional: Save the result to a new CSV file\n",
    "result_df.to_csv('./Virginia Public Schools Archive/percentage_disadvantaged.csv', index=False)\n"
   ]
  },
  {
   "cell_type": "code",
   "execution_count": 14,
   "metadata": {},
   "outputs": [
    {
     "name": "stdout",
     "output_type": "stream",
     "text": [
      "English Learners    Division Name              School Name  \\\n",
      "0                 Accomack County    Accawmacke Elementary   \n",
      "1                 Accomack County             Arcadia High   \n",
      "2                 Accomack County           Arcadia Middle   \n",
      "3                 Accomack County  Chincoteague Elementary   \n",
      "4                 Accomack County        Chincoteague High   \n",
      "\n",
      "English Learners  percentage_english_learners  \n",
      "0                                    0.264249  \n",
      "1                                    0.138973  \n",
      "2                                    0.186047  \n",
      "3                                    0.000000  \n",
      "4                                    0.000000  \n"
     ]
    }
   ],
   "source": [
    "#english learners \n",
    "\n",
    "df = pd.read_csv('./Virginia Public Schools Archive/Demographics/English_Learners.csv')\n",
    "\n",
    "df['Total Count'] = pd.to_numeric(df['Total Count'], errors='coerce')\n",
    "\n",
    "# Pivot the data to create separate columns for 'Y' and 'N'\n",
    "pivot_df = df.pivot_table(\n",
    "    index=['Division Name', 'School Name'], \n",
    "    columns='English Learners', \n",
    "    values='Total Count', \n",
    "    aggfunc='sum', \n",
    "    fill_value=0\n",
    ").reset_index()\n",
    "\n",
    "# Rename columns for clarity\n",
    "pivot_df = pivot_df.rename(columns={'Y': 'English_Learners_Y', 'N': 'English_Learners_N'})\n",
    "\n",
    "pivot_df['percentage_english_learners'] = (\n",
    "    pivot_df['English_Learners_Y'] / (pivot_df['English_Learners_Y'] + pivot_df['English_Learners_N']) \n",
    ")\n",
    "\n",
    "result_df = pivot_df[['Division Name', 'School Name', 'percentage_english_learners']]\n",
    "\n",
    "print(result_df.head())\n",
    "\n",
    "result_df.to_csv('./Virginia Public Schools Archive/percentage_english_learners.csv', index=False)\n"
   ]
  },
  {
   "cell_type": "code",
   "execution_count": 20,
   "metadata": {},
   "outputs": [
    {
     "name": "stdout",
     "output_type": "stream",
     "text": [
      "Foster Care    Division Name              School Name  percentage_foster_care\n",
      "0            Accomack County    Accawmacke Elementary                0.002451\n",
      "1            Accomack County             Arcadia High                0.001456\n",
      "2            Accomack County           Arcadia Middle                0.000000\n",
      "3            Accomack County  Chincoteague Elementary                0.000000\n",
      "4            Accomack County        Chincoteague High                0.000000\n"
     ]
    }
   ],
   "source": [
    "#foster care\n",
    "\n",
    "df = pd.read_csv('./Virginia Public Schools Archive/Demographics/Foster_Care.csv')\n",
    "\n",
    "df['Total Count'] = pd.to_numeric(df['Total Count'], errors='coerce')\n",
    "\n",
    "# Pivot the data to create separate columns for 'Y' and 'N'\n",
    "pivot_df = df.pivot_table(\n",
    "    index=['Division Name', 'School Name'], \n",
    "    columns='Foster Care', \n",
    "    values='Total Count', \n",
    "    aggfunc='sum', \n",
    "    fill_value=0\n",
    ").reset_index()\n",
    "\n",
    "# Rename columns for clarity\n",
    "pivot_df = pivot_df.rename(columns={'Y': 'Foster_Care_Y', 'N': 'Foster_Care_N'})\n",
    "\n",
    "pivot_df['percentage_foster_care'] = (\n",
    "    pivot_df['Foster_Care_Y'] / (pivot_df['Foster_Care_Y'] + pivot_df['Foster_Care_N']) \n",
    ")\n",
    "\n",
    "result_df = pivot_df[['Division Name', 'School Name', 'percentage_foster_care']]\n",
    "\n",
    "print(result_df.head())\n",
    "\n",
    "result_df.to_csv('./Virginia Public Schools Archive/percentage_foster_care.csv', index=False)\n"
   ]
  },
  {
   "cell_type": "code",
   "execution_count": 23,
   "metadata": {},
   "outputs": [
    {
     "name": "stdout",
     "output_type": "stream",
     "text": [
      "Gender    Division Name              School Name  percentage_male\n",
      "0       Accomack County    Accawmacke Elementary         0.504902\n",
      "1       Accomack County             Arcadia High         0.529840\n",
      "2       Accomack County           Arcadia Middle         0.478976\n",
      "3       Accomack County  Chincoteague Elementary         0.539823\n",
      "4       Accomack County        Chincoteague High         0.518797\n"
     ]
    }
   ],
   "source": [
    "#gender - male\n",
    "\n",
    "df = pd.read_csv('./Virginia Public Schools Archive/Demographics/Gender.csv')\n",
    "\n",
    "df['Total Count'] = pd.to_numeric(df['Total Count'], errors='coerce')\n",
    "\n",
    "# Pivot the data to create separate columns for 'Y' and 'N'\n",
    "pivot_df = df.pivot_table(\n",
    "    index=['Division Name', 'School Name'], \n",
    "    columns='Gender', \n",
    "    values='Total Count', \n",
    "    aggfunc='sum', \n",
    "    fill_value=0\n",
    ").reset_index()\n",
    "\n",
    "# Rename columns for clarity\n",
    "pivot_df = pivot_df.rename(columns={'Female': 'Female', 'Male': 'Male'})\n",
    "\n",
    "pivot_df['percentage_male'] = (\n",
    "    pivot_df['Male'] / (pivot_df['Female'] + pivot_df['Male']) \n",
    ")\n",
    "\n",
    "result_df = pivot_df[['Division Name', 'School Name', 'percentage_male']]\n",
    "\n",
    "print(result_df.head())\n",
    "\n",
    "result_df.to_csv('./Virginia Public Schools Archive/percentage_male.csv', index=False)\n"
   ]
  },
  {
   "cell_type": "code",
   "execution_count": 25,
   "metadata": {},
   "outputs": [
    {
     "name": "stdout",
     "output_type": "stream",
     "text": [
      "Homeless    Division Name              School Name  percentage_homeless\n",
      "0         Accomack County    Accawmacke Elementary             0.093137\n",
      "1         Accomack County             Arcadia High             0.024745\n",
      "2         Accomack County           Arcadia Middle             0.000000\n",
      "3         Accomack County  Chincoteague Elementary             0.061947\n",
      "4         Accomack County        Chincoteague High             0.000000\n"
     ]
    }
   ],
   "source": [
    "#homeless\n",
    "\n",
    "df = pd.read_csv('./Virginia Public Schools Archive/Demographics/Homeless.csv')\n",
    "\n",
    "df['Total Count'] = pd.to_numeric(df['Total Count'], errors='coerce')\n",
    "\n",
    "# Pivot the data to create separate columns for 'Y' and 'N'\n",
    "pivot_df = df.pivot_table(\n",
    "    index=['Division Name', 'School Name'], \n",
    "    columns='Homeless', \n",
    "    values='Total Count', \n",
    "    aggfunc='sum', \n",
    "    fill_value=0\n",
    ").reset_index()\n",
    "\n",
    "# Rename columns for clarity\n",
    "pivot_df = pivot_df.rename(columns={'Y': 'Homeless_Y', 'N': 'Homeless_N'})\n",
    "\n",
    "pivot_df['percentage_homeless'] = (\n",
    "    pivot_df['Homeless_Y'] / (pivot_df['Homeless_Y'] + pivot_df['Homeless_N']) \n",
    ")\n",
    "\n",
    "result_df = pivot_df[['Division Name', 'School Name', 'percentage_homeless']]\n",
    "\n",
    "print(result_df.head())\n",
    "\n",
    "result_df.to_csv('./Virginia Public Schools Archive/percentage_homeless.csv', index=False)\n"
   ]
  },
  {
   "cell_type": "code",
   "execution_count": 35,
   "metadata": {},
   "outputs": [
    {
     "name": "stdout",
     "output_type": "stream",
     "text": [
      "Military    Division Name              School Name  percentage_military\n",
      "0         Accomack County    Accawmacke Elementary             0.002451\n",
      "1         Accomack County             Arcadia High             0.005822\n",
      "2         Accomack County           Arcadia Middle             0.005484\n",
      "3         Accomack County  Chincoteague Elementary             0.115044\n",
      "4         Accomack County        Chincoteague High             0.030075\n"
     ]
    }
   ],
   "source": [
    "#military connected \n",
    "\n",
    "df = pd.read_csv('./Virginia Public Schools Archive/Demographics/Military_Connected.csv')\n",
    "\n",
    "df['Total Count'] = pd.to_numeric(df['Total Count'], errors='coerce')\n",
    "\n",
    "# Pivot the data to create separate columns for 'Y' and 'N'\n",
    "pivot_df = df.pivot_table(\n",
    "    index=['Division Name', 'School Name'], \n",
    "    columns='Military', \n",
    "    values='Total Count', \n",
    "    aggfunc='sum', \n",
    "    fill_value=0\n",
    ").reset_index()\n",
    "\n",
    "# Rename columns for clarity\n",
    "pivot_df = pivot_df.rename(columns={'Y': 'Military_Y', 'N': 'Military_N'})\n",
    "\n",
    "pivot_df['percentage_military'] = (\n",
    "    pivot_df['Military_Y'] / (pivot_df['Military_Y'] + pivot_df['Military_N']) \n",
    ")\n",
    "\n",
    "result_df = pivot_df[['Division Name', 'School Name', 'percentage_military']]\n",
    "\n",
    "print(result_df.head())\n",
    "\n",
    "result_df.to_csv('./Virginia Public Schools Archive/percentage_military.csv', index=False)\n"
   ]
  },
  {
   "cell_type": "code",
   "execution_count": 36,
   "metadata": {},
   "outputs": [
    {
     "name": "stdout",
     "output_type": "stream",
     "text": [
      "        Division Name              School Name  \\\n",
      "0     Accomack County    Accawmacke Elementary   \n",
      "1     Accomack County             Arcadia High   \n",
      "2     Accomack County           Arcadia Middle   \n",
      "3     Accomack County  Chincoteague Elementary   \n",
      "4     Accomack County        Chincoteague High   \n",
      "...               ...                      ...   \n",
      "1813      York County   Waller Mill Elementary   \n",
      "1814      York County                York High   \n",
      "1815      York County       York River Academy   \n",
      "1816      York County      Yorktown Elementary   \n",
      "1817      York County          Yorktown Middle   \n",
      "\n",
      "                                                   Race  \\\n",
      "0           Black, White, Hispanic, Non-Hispanic, Asian   \n",
      "1           Black, Hispanic, White, Asian, Non-Hispanic   \n",
      "2     Black, Hispanic, White, Non-Hispanic, Asian, A...   \n",
      "3                  White, Black, Hispanic, Non-Hispanic   \n",
      "4     White, Black, Non-Hispanic, Hispanic, American...   \n",
      "...                                                 ...   \n",
      "1813        White, Black, Hispanic, Non-Hispanic, Asian   \n",
      "1814  White, Black, Hispanic, Non-Hispanic, Asian, N...   \n",
      "1815               White, Non-Hispanic, Black, Hispanic   \n",
      "1816  White, Black, Non-Hispanic, Hispanic, Asian, A...   \n",
      "1817  White, Black, Hispanic, Non-Hispanic, Asian, A...   \n",
      "\n",
      "                                             Percentage  \n",
      "0     0.4460784314, 0.2794117647, 0.2426470588, 0.01...  \n",
      "1     0.3697234352, 0.31586608439999997, 0.295487627...  \n",
      "2     0.3638025594, 0.3217550274, 0.2851919561000000...  \n",
      "3     0.7522123894, 0.1327433628, 0.06194690265, 0.0...  \n",
      "4     0.8157894737, 0.1203007519, 0.03007518797, 0.0...  \n",
      "...                                                 ...  \n",
      "1813  0.5569306931, 0.17079207920000003, 0.131188118...  \n",
      "1814  0.6324472961000001, 0.1246562786, 0.1026581118...  \n",
      "1815  0.8360655738, 0.08196721310999999, 0.049180327...  \n",
      "1816  0.49022801299999996, 0.2182410423, 0.131921824...  \n",
      "1817  0.6021840874, 0.1575663027, 0.1185647426000000...  \n",
      "\n",
      "[1818 rows x 4 columns]\n"
     ]
    }
   ],
   "source": [
    "#race\n",
    "\n",
    "df = pd.read_csv('./Virginia Public Schools Archive/Demographics/Race.csv')\n",
    "\n",
    "df['Percentage'] = pd.to_numeric(df['Percentage'], errors='coerce') / 100\n",
    "df['Race'] = df['Race'].apply(lambda x: x.split(',')[0].strip())\n",
    "\n",
    "result_df = df.groupby(['Division Name', 'School Name'], as_index=False).agg({\n",
    "    'Race': lambda x: ', '.join(x),\n",
    "    'Percentage': lambda x: ', '.join(map(str, x)),  # Join percentages as strings\n",
    "})\n",
    "\n",
    "# Display the merged DataFrame\n",
    "print(result_df)\n",
    "\n",
    "result_df.to_csv('./Virginia Public Schools Archive/percentage_race.csv', index=False)\n"
   ]
  },
  {
   "cell_type": "code",
   "execution_count": 39,
   "metadata": {},
   "outputs": [
    {
     "name": "stdout",
     "output_type": "stream",
     "text": [
      "Disabled    Division Name              School Name  percentage_disabled\n",
      "0         Accomack County    Accawmacke Elementary             0.102941\n",
      "1         Accomack County             Arcadia High             0.129549\n",
      "2         Accomack County           Arcadia Middle             0.166362\n",
      "3         Accomack County  Chincoteague Elementary             0.128319\n",
      "4         Accomack County        Chincoteague High             0.131579\n"
     ]
    }
   ],
   "source": [
    "#disabilities\n",
    "\n",
    "df = pd.read_csv('./Virginia Public Schools Archive/Demographics/Students_with_Disabilities.csv')\n",
    "\n",
    "df['Total Count'] = pd.to_numeric(df['Total Count'], errors='coerce')\n",
    "\n",
    "# Pivot the data to create separate columns for 'Y' and 'N'\n",
    "pivot_df = df.pivot_table(\n",
    "    index=['Division Name', 'School Name'], \n",
    "    columns='Disabled', \n",
    "    values='Total Count', \n",
    "    aggfunc='sum', \n",
    "    fill_value=0\n",
    ").reset_index()\n",
    "\n",
    "# Rename columns for clarity\n",
    "pivot_df = pivot_df.rename(columns={'Y': 'Disabled_Y', 'N': 'Disabled_N'})\n",
    "\n",
    "pivot_df['percentage_disabled'] = (\n",
    "    pivot_df['Disabled_Y'] / (pivot_df['Disabled_Y'] + pivot_df['Disabled_N']) \n",
    ")\n",
    "\n",
    "result_df = pivot_df[['Division Name', 'School Name', 'percentage_disabled']]\n",
    "\n",
    "print(result_df.head())\n",
    "\n",
    "result_df.to_csv('./Virginia Public Schools Archive/percentage_disabled.csv', index=False)\n"
   ]
  },
  {
   "cell_type": "code",
   "execution_count": 37,
   "metadata": {},
   "outputs": [
    {
     "name": "stdout",
     "output_type": "stream",
     "text": [
      "     Division Name              School Name  percentage_disadvantaged  \\\n",
      "0  Accomack County    Accawmacke Elementary                  0.485294   \n",
      "1  Accomack County             Arcadia High                  0.382824   \n",
      "2  Accomack County           Arcadia Middle                  0.482633   \n",
      "3  Accomack County  Chincoteague Elementary                  0.256637   \n",
      "4  Accomack County        Chincoteague High                  0.296992   \n",
      "\n",
      "   percentage_english_learners  percentage_foster_care  percentage_male  \\\n",
      "0                     0.264249                0.002451         0.504902   \n",
      "1                     0.138973                0.001456         0.529840   \n",
      "2                     0.186047                0.000000         0.478976   \n",
      "3                     0.000000                0.000000         0.539823   \n",
      "4                     0.000000                0.000000         0.518797   \n",
      "\n",
      "   percentage_homeless  percentage_military  \\\n",
      "0             0.093137             0.002451   \n",
      "1             0.024745             0.005822   \n",
      "2             0.000000             0.005484   \n",
      "3             0.061947             0.115044   \n",
      "4             0.000000             0.030075   \n",
      "\n",
      "                                                Race  \\\n",
      "0        Black, White, Hispanic, Non-Hispanic, Asian   \n",
      "1        Black, Hispanic, White, Asian, Non-Hispanic   \n",
      "2  Black, Hispanic, White, Non-Hispanic, Asian, A...   \n",
      "3               White, Black, Hispanic, Non-Hispanic   \n",
      "4  White, Black, Non-Hispanic, Hispanic, American...   \n",
      "\n",
      "                                          Percentage  \n",
      "0  0.4460784314, 0.2794117647, 0.2426470588, 0.01...  \n",
      "1  0.3697234352, 0.31586608439999997, 0.295487627...  \n",
      "2  0.3638025594, 0.3217550274, 0.2851919561000000...  \n",
      "3  0.7522123894, 0.1327433628, 0.06194690265, 0.0...  \n",
      "4  0.8157894737, 0.1203007519, 0.03007518797, 0.0...  \n"
     ]
    }
   ],
   "source": [
    "# Define the folder path where the files are located\n",
    "folder_path = './Virginia Public Schools Archive/'\n",
    "\n",
    "# List of the file names to merge\n",
    "file_names = [\n",
    "'percentage_disadvantaged.csv',\n",
    "'percentage_english_learners.csv',\n",
    "'percentage_foster_care.csv',\n",
    "'percentage_male.csv',\n",
    "'percentage_homeless.csv',\n",
    "'percentage_military.csv',\n",
    "'percentage_race.csv',\n",
    "'percentage_disabled.csv',\n",
    "\n",
    "]\n",
    "\n",
    "# Construct the full file paths\n",
    "file_paths = [folder_path + file_name for file_name in file_names]\n",
    "\n",
    "# Load datasets into pandas DataFrames\n",
    "datasets = [pd.read_csv(file) for file in file_paths]\n",
    "\n",
    "# Merge all datasets on 'Division Name' and 'School Name' using an outer join with suffixes\n",
    "merged_dataset = datasets[0]\n",
    "\n",
    "for dataset in datasets[1:]:\n",
    "    merged_dataset = pd.merge(\n",
    "        merged_dataset, dataset, on=['Division Name', 'School Name'], \n",
    "        how='outer', suffixes=('', '_duplicate')\n",
    "    )\n",
    "\n",
    "# Drop the duplicate columns if not needed\n",
    "merged_dataset = merged_dataset.loc[:, ~merged_dataset.columns.str.contains('_duplicate')]\n",
    "\n",
    "# Display the merged dataset\n",
    "print(merged_dataset.head())\n",
    "\n",
    "# Optional: Save the merged dataset to a new CSV file\n",
    "merged_dataset.to_csv('./Virginia Public Schools Archive/merged_dataset.csv', index=False)\n"
   ]
  },
  {
   "cell_type": "markdown",
   "metadata": {},
   "source": [
    "<h1>Economic Factors</h1>"
   ]
  },
  {
   "cell_type": "code",
   "execution_count": null,
   "metadata": {},
   "outputs": [],
   "source": [
    "#free and reduced lunch \n",
    "df = pd.read_csv('./Virginia Public Schools Archive/Economic Factors/Free_and_Reduced_Lunch.csv')"
   ]
  }
 ],
 "metadata": {
  "kernelspec": {
   "display_name": "Python 3",
   "language": "python",
   "name": "python3"
  },
  "language_info": {
   "codemirror_mode": {
    "name": "ipython",
    "version": 3
   },
   "file_extension": ".py",
   "mimetype": "text/x-python",
   "name": "python",
   "nbconvert_exporter": "python",
   "pygments_lexer": "ipython3",
   "version": "3.12.5"
  }
 },
 "nbformat": 4,
 "nbformat_minor": 2
}
